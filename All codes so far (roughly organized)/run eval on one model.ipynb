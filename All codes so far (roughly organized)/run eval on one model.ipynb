{
 "cells": [
  {
   "cell_type": "markdown",
   "id": "1237d29c-36f1-4e35-a252-004e18b55a57",
   "metadata": {},
   "source": [
    "### 初始化配置"
   ]
  },
  {
   "cell_type": "code",
   "execution_count": 1,
   "id": "b98fe2bb-527b-4341-bd78-f8ac5be962e5",
   "metadata": {},
   "outputs": [],
   "source": [
    "import torch\n",
    "torch.cuda.empty_cache()\n",
    "# 修改这三个参数，以及下面代码中所有的文件地址\n",
    "device = ''\n",
    "model_path = \"\"\n",
    "model_name = \"\""
   ]
  },
  {
   "cell_type": "markdown",
   "id": "70139b01-3b56-4af5-92ac-399fb622bcad",
   "metadata": {},
   "source": [
    "### 可能需要在ppl_and_ngram当中需要修改的部分\n",
    "1. load_model中根据待测模型特性决定是否添加单独if语句\n",
    "2. load_data_from_jsonl中根据待测数据集，修改样本format方式\n",
    "3. calculate_answer_ppl中根据tokenizer特性决定是否要用' '+sep_token（123行）：可以先运行 如果有很多Not found报错，可修改为另一个前面不加' '的\n",
    "4. calculate_n_gram_accuracy如果运行出错，可以从所有跟if相关的语句开始查，为当前模型添加到if条件中或者写一个新的if"
   ]
  },
  {
   "cell_type": "markdown",
   "id": "067d1708-ba68-4bb0-8dee-193e23451549",
   "metadata": {},
   "source": [
    "### 测合成数据"
   ]
  },
  {
   "cell_type": "code",
   "execution_count": null,
   "id": "4ceee1ae-4a9d-4e8f-aea6-7574c1a64a8f",
   "metadata": {},
   "outputs": [],
   "source": [
    "from ppl_and_ngram import *\n",
    "\n",
    "\n",
    "# 数据集路径\n",
    "dataset_names = [\n",
    "                \"GSM8K_rewritten-test-1\",\n",
    "                \"GSM8K_rewritten-test-2\",\n",
    "                \"GSM8K_rewritten-test-3\",\n",
    "                \"GSM8K_rewritten-train-1\",\n",
    "                \"GSM8K_rewritten-train-2\",\n",
    "                \"GSM8K_rewritten-train-3\",\n",
    "                \"MATH_rewritten-test-1\",\n",
    "                \"MATH_rewritten-test-2\",\n",
    "                \"MATH_rewritten-test-3\",\n",
    "                \"MATH_rewritten-train-1\",\n",
    "                \"MATH_rewritten-train-2\",\n",
    "                \"MATH_rewritten-train-3\"\n",
    "                ]\n",
    "\n",
    "model, tokenizer = load_model(model_path, device)\n",
    "\n",
    "results_5grm_summary = {}\n",
    "results_10grm_summary = {}\n",
    "\n",
    "k = 5  # 你的 starting points 数量\n",
    "\n",
    "# 遍历每个数据集并执行测试\n",
    "for dataset_name in dataset_names:\n",
    "    # 加载数据集\n",
    "    dataset_path = f'/data/rjxu/MATH&GSM8K/{dataset_name}.jsonl'\n",
    "    dataset = load_data_from_jsonl(dataset_path)\n",
    "    \n",
    "    # 执行计算\n",
    "    output_file_5gram = f'/home/rjxu/rewritten/ngram/5gram-{model_name}-{dataset_name}.jsonl'\n",
    "    ngram_5_results = calculate_n_gram_accuracy(5, k, dataset, model, tokenizer, device, output_file_5gram)\n",
    "    print(f\"{dataset_name} 5_gram_accuracy: \", ngram_5_results[\"mean_n_grams\"])\n",
    "    results_5grm_summary[f'{dataset_name}'] = ngram_5_results[\"mean_n_grams\"]\n",
    "\n",
    "    output_file_10gram = f'/home/rjxu/rewritten/ngram/10gram-{model_name}-{dataset_name}.jsonl'\n",
    "    ngram_10_results = calculate_n_gram_accuracy(10, k, dataset, model, tokenizer, device, output_file_10gram)\n",
    "    print(f\"{dataset_name} 10_gram_accuracy: \", ngram_10_results[\"mean_n_grams\"])\n",
    "    results_10grm_summary[f'{dataset_name}'] = ngram_10_results[\"mean_n_grams\"]\n",
    "\n",
    "# 打印结果\n",
    "for key, value in results_5grm_summary.items():\n",
    "    print(f\"{key}: {value}\")\n",
    "print(\"5gram\")\n",
    "print(\"| GSM8K-train-1 | GSM8K-train-2 | GSM8K-train-3 | GSM8K-test-1 | GSM8K-test-2 | GSM8K-test-3 | MATH-train-1 | MATH-train-2 | MATH-train-3 | MATH-test-1 | MATH-test-2 | MATH-test-3 |\")\n",
    "print(\"|---------------|---------------|---------------|--------------|--------------|--------------|--------------|--------------|--------------|-------------|-------------|-------------|\")\n",
    "print(f\"| {results_5grm_summary['GSM8K_rewritten-train-1'] * 100:.2f} | {results_5grm_summary['GSM8K_rewritten-train-2'] * 100:.2f} | {results_5grm_summary['GSM8K_rewritten-train-3'] * 100:.2f} | \"\n",
    "      f\"{results_5grm_summary['GSM8K_rewritten-test-1'] * 100:.2f} | {results_5grm_summary['GSM8K_rewritten-test-2'] * 100:.2f} | {results_5grm_summary['GSM8K_rewritten-test-3'] * 100:.2f} | \"\n",
    "      f\"{results_5grm_summary['MATH_rewritten-train-1'] * 100:.2f} | {results_5grm_summary['MATH_rewritten-train-2'] * 100:.2f} | {results_5grm_summary['MATH_rewritten-train-3'] * 100:.2f} | \"\n",
    "      f\"{results_5grm_summary['MATH_rewritten-test-1'] * 100:.2f} | {results_5grm_summary['MATH_rewritten-test-2'] * 100:.2f} | {results_5grm_summary['MATH_rewritten-test-3'] * 100:.2f} |\")\n",
    "\n",
    "for key, value in results_10grm_summary.items():\n",
    "    print(f\"{key}: {value}\")\n",
    "print(\"10gram\")\n",
    "print(\"| GSM8K-train-1 | GSM8K-train-2 | GSM8K-train-3 | GSM8K-test-1 | GSM8K-test-2 | GSM8K-test-3 | MATH-train-1 | MATH-train-2 | MATH-train-3 | MATH-test-1 | MATH-test-2 | MATH-test-3 |\")\n",
    "print(\"|---------------|---------------|---------------|--------------|--------------|--------------|--------------|--------------|--------------|-------------|-------------|-------------|\")\n",
    "print(f\"| {results_10grm_summary['GSM8K_rewritten-train-1'] * 100:.2f} | {results_10grm_summary['GSM8K_rewritten-train-2'] * 100:.2f} | {results_10grm_summary['GSM8K_rewritten-train-3'] * 100:.2f} | \"\n",
    "      f\"{results_10grm_summary['GSM8K_rewritten-test-1'] * 100:.2f} | {results_10grm_summary['GSM8K_rewritten-test-2'] * 100:.2f} | {results_10grm_summary['GSM8K_rewritten-test-3'] * 100:.2f} | \"\n",
    "      f\"{results_10grm_summary['MATH_rewritten-train-1'] * 100:.2f} | {results_10grm_summary['MATH_rewritten-train-2'] * 100:.2f} | {results_10grm_summary['MATH_rewritten-train-3'] * 100:.2f} | \"\n",
    "      f\"{results_10grm_summary['MATH_rewritten-test-1'] * 100:.2f} | {results_10grm_summary['MATH_rewritten-test-2'] * 100:.2f} | {results_10grm_summary['MATH_rewritten-test-3'] * 100:.2f} |\")\n",
    "\n"
   ]
  },
  {
   "cell_type": "markdown",
   "id": "5b4e5b51-4359-49cf-ac15-74479dff69d3",
   "metadata": {},
   "source": [
    "### 测5gram原数据（含rouge_l & edit_distance统计）"
   ]
  },
  {
   "cell_type": "code",
   "execution_count": 3,
   "id": "06a600ef-0d00-44a1-8953-1447ba4cbe39",
   "metadata": {},
   "outputs": [
    {
     "name": "stderr",
     "output_type": "stream",
     "text": [
      "Gemma's activation function should be approximate GeLU and not exact GeLU.\n",
      "Changing the activation function to `gelu_pytorch_tanh`.if you want to use the legacy `gelu`, edit the `model.config` to set `hidden_activation=gelu`   instead of `hidden_act`. See https://github.com/huggingface/transformers/pull/29402 for more details.\n"
     ]
    },
    {
     "data": {
      "application/vnd.jupyter.widget-view+json": {
       "model_id": "9f0aac3ddb864f79bf12cee695376fb5",
       "version_major": 2,
       "version_minor": 0
      },
      "text/plain": [
       "Loading checkpoint shards:   0%|          | 0/4 [00:00<?, ?it/s]"
      ]
     },
     "metadata": {},
     "output_type": "display_data"
    },
    {
     "name": "stdout",
     "output_type": "stream",
     "text": [
      "3000\n"
     ]
    },
    {
     "name": "stderr",
     "output_type": "stream",
     "text": [
      "100%|██████████| 3000/3000 [30:32<00:00,  1.64it/s]\n"
     ]
    },
    {
     "name": "stdout",
     "output_type": "stream",
     "text": [
      "MATH-test 5_gram_accuracy: \n",
      "Mean Accuracy Edit Distance: 0.3546000000000001\n",
      "Mean Accuracy Rouge-L: 0.4256\n",
      "Mean Accuracy: 0.33026666666666665\n",
      "3000\n"
     ]
    },
    {
     "name": "stderr",
     "output_type": "stream",
     "text": [
      "100%|██████████| 3000/3000 [30:53<00:00,  1.62it/s]\n"
     ]
    },
    {
     "name": "stdout",
     "output_type": "stream",
     "text": [
      "MATH-train 5_gram_accuracy: \n",
      "Mean Accuracy Edit Distance: 0.36133333333333334\n",
      "Mean Accuracy Rouge-L: 0.4344\n",
      "Mean Accuracy: 0.3390000000000001\n",
      "1319\n"
     ]
    },
    {
     "name": "stderr",
     "output_type": "stream",
     "text": [
      "100%|██████████| 1319/1319 [12:22<00:00,  1.78it/s]\n"
     ]
    },
    {
     "name": "stdout",
     "output_type": "stream",
     "text": [
      "GSM8K-test 5_gram_accuracy: \n",
      "Mean Accuracy Edit Distance: 0.20833965125094767\n",
      "Mean Accuracy Rouge-L: 0.26974981046247154\n",
      "Mean Accuracy: 0.19393479909021985\n",
      "3000\n"
     ]
    },
    {
     "name": "stderr",
     "output_type": "stream",
     "text": [
      "100%|██████████| 3000/3000 [28:09<00:00,  1.78it/s]"
     ]
    },
    {
     "name": "stdout",
     "output_type": "stream",
     "text": [
      "GSM8K-train 5_gram_accuracy: \n",
      "Mean Accuracy Edit Distance: 0.20140000000000002\n",
      "Mean Accuracy Rouge-L: 0.26566666666666666\n",
      "Mean Accuracy: 0.1875333333333333\n",
      "Edit Distance\n",
      "| GSM8K-train | GSM8K-test | MATH-train | MATH-test |\n",
      "|-------------|------------|------------|-----------|\n",
      "| 20.14 | 20.83 | 36.13 | 35.46 |\n",
      "Rouge-L\n",
      "| GSM8K-train | GSM8K-test | MATH-train | MATH-test |\n",
      "|-------------|------------|------------|-----------|\n",
      "| 26.57 | 26.97 | 43.44 | 42.56 |\n",
      "n-gram\n",
      "| GSM8K-train | GSM8K-test | MATH-train | MATH-test |\n",
      "|-------------|------------|------------|-----------|\n",
      "| 18.75 | 19.39 | 33.90 | 33.03 |\n"
     ]
    },
    {
     "name": "stderr",
     "output_type": "stream",
     "text": [
      "\n"
     ]
    }
   ],
   "source": [
    "from calculate_similarity_metrics import *\n",
    "from ppl_and_ngram import *\n",
    "\n",
    "# 数据集路径\n",
    "dataset_names = [\n",
    "                 \"MATH-test\",\n",
    "                 \"MATH-train\",\n",
    "                 \"GSM8K-test\",\n",
    "                 \"GSM8K-train\"\n",
    "                ]\n",
    "\n",
    "# 设置你的参数\n",
    "k = 5  # 你的 starting points 数量\n",
    "\n",
    "results_5grm_summary = {}\n",
    "model, tokenizer = load_model(model_path, device)\n",
    "\n",
    "# 遍历每个数据集并执行测试\n",
    "for dataset_name in dataset_names:\n",
    "    # 加载数据集\n",
    "    dataset_path = f'/home/rjxu/new-gram/datasets/{dataset_name}.jsonl'\n",
    "    dataset = load_data_from_jsonl(dataset_path)\n",
    "\n",
    "    path = f\"/home/rjxu/new-gram/results/5gram-{model_name}-{dataset_name}.json\"\n",
    "\n",
    "    ngram_5_results = calculate_similarity_metrics(5, k, dataset, model, tokenizer, device, path)\n",
    "    print(f\"{dataset_name} 5_gram_accuracy: \")\n",
    "    print(f\"Mean Accuracy Edit Distance: {ngram_5_results['mean_accuracy_edit_distance']}\")\n",
    "    print(f\"Mean Accuracy Rouge-L: {ngram_5_results['mean_accuracy_rouge_l']}\")\n",
    "    print(f\"Mean Accuracy: {ngram_5_results['mean_accuracy']}\")\n",
    "    # 存储结果到字典中\n",
    "    results_5grm_summary[f'{dataset_name}'] = ngram_5_results\n",
    "\n",
    "# 输出 Markdown 格式表格\n",
    "print(\"Edit Distance\")\n",
    "print(\"| GSM8K-train | GSM8K-test | MATH-train | MATH-test |\")\n",
    "print(\"|-------------|------------|------------|-----------|\")\n",
    "\n",
    "print(f\"| {results_5grm_summary['GSM8K-train']['mean_accuracy_edit_distance'] * 100:.2f} | \"\n",
    "      f\"{results_5grm_summary['GSM8K-test']['mean_accuracy_edit_distance'] * 100:.2f} | \"\n",
    "      f\"{results_5grm_summary['MATH-train']['mean_accuracy_edit_distance'] * 100:.2f} | \"\n",
    "      f\"{results_5grm_summary['MATH-test']['mean_accuracy_edit_distance'] * 100:.2f} |\")\n",
    "\n",
    "# 输出 Markdown 格式表格\n",
    "print(\"Rouge-L\")\n",
    "print(\"| GSM8K-train | GSM8K-test | MATH-train | MATH-test |\")\n",
    "print(\"|-------------|------------|------------|-----------|\")\n",
    "\n",
    "print(f\"| {results_5grm_summary['GSM8K-train']['mean_accuracy_rouge_l'] * 100:.2f} | \"\n",
    "      f\"{results_5grm_summary['GSM8K-test']['mean_accuracy_rouge_l'] * 100:.2f} | \"\n",
    "      f\"{results_5grm_summary['MATH-train']['mean_accuracy_rouge_l'] * 100:.2f} | \"\n",
    "      f\"{results_5grm_summary['MATH-test']['mean_accuracy_rouge_l'] * 100:.2f} |\")\n",
    "\n",
    "# 输出 Markdown 格式表格\n",
    "print(\"n-gram\")\n",
    "print(\"| GSM8K-train | GSM8K-test | MATH-train | MATH-test |\")\n",
    "print(\"|-------------|------------|------------|-----------|\")\n",
    "\n",
    "print(f\"| {results_5grm_summary['GSM8K-train']['mean_accuracy'] * 100:.2f} | \"\n",
    "      f\"{results_5grm_summary['GSM8K-test']['mean_accuracy'] * 100:.2f} | \"\n",
    "      f\"{results_5grm_summary['MATH-train']['mean_accuracy'] * 100:.2f} | \"\n",
    "      f\"{results_5grm_summary['MATH-test']['mean_accuracy'] * 100:.2f} |\")"
   ]
  },
  {
   "cell_type": "markdown",
   "id": "fc9d78df-cc4a-4d3d-92af-6dc0522a1093",
   "metadata": {},
   "source": [
    "### 测10gram原数据（含rouge_l & edit_distance统计）"
   ]
  },
  {
   "cell_type": "code",
   "execution_count": 4,
   "id": "f0f02f69-f4b0-4e66-b467-22028bdc7364",
   "metadata": {},
   "outputs": [
    {
     "name": "stdout",
     "output_type": "stream",
     "text": [
      "3000\n"
     ]
    },
    {
     "name": "stderr",
     "output_type": "stream",
     "text": [
      "100%|██████████| 3000/3000 [57:33<00:00,  1.15s/it]\n"
     ]
    },
    {
     "name": "stdout",
     "output_type": "stream",
     "text": [
      "MATH-test 10_gram_accuracy: \n",
      "Mean Accuracy Edit Distance: 0.17393333333333333\n",
      "Mean Accuracy Rouge-L: 0.305\n",
      "Mean Accuracy: 0.13666666666666666\n",
      "3000\n"
     ]
    },
    {
     "name": "stderr",
     "output_type": "stream",
     "text": [
      "100%|██████████| 3000/3000 [57:46<00:00,  1.16s/it] \n"
     ]
    },
    {
     "name": "stdout",
     "output_type": "stream",
     "text": [
      "MATH-train 10_gram_accuracy: \n",
      "Mean Accuracy Edit Distance: 0.18026666666666666\n",
      "Mean Accuracy Rouge-L: 0.303\n",
      "Mean Accuracy: 0.14366666666666666\n",
      "1319\n"
     ]
    },
    {
     "name": "stderr",
     "output_type": "stream",
     "text": [
      "100%|██████████| 1319/1319 [24:23<00:00,  1.11s/it]\n"
     ]
    },
    {
     "name": "stdout",
     "output_type": "stream",
     "text": [
      "GSM8K-test 10_gram_accuracy: \n",
      "Mean Accuracy Edit Distance: 0.12160727824109174\n",
      "Mean Accuracy Rouge-L: 0.20181956027293405\n",
      "Mean Accuracy: 0.10326004548900682\n",
      "3000\n"
     ]
    },
    {
     "name": "stderr",
     "output_type": "stream",
     "text": [
      "100%|██████████| 3000/3000 [56:01<00:00,  1.12s/it]"
     ]
    },
    {
     "name": "stdout",
     "output_type": "stream",
     "text": [
      "GSM8K-train 10_gram_accuracy: \n",
      "Mean Accuracy Edit Distance: 0.11646666666666666\n",
      "Mean Accuracy Rouge-L: 0.19893333333333335\n",
      "Mean Accuracy: 0.09753333333333335\n",
      "Edit Distance\n",
      "| GSM8K-train | GSM8K-test | MATH-train | MATH-test |\n",
      "|-------------|------------|------------|-----------|\n",
      "| 20.14 | 20.14 | 20.14 | 20.14 |\n",
      "Rouge-L\n",
      "| GSM8K-train | GSM8K-test | MATH-train | MATH-test |\n",
      "|-------------|------------|------------|-----------|\n",
      "| 26.57 | 26.57 | 26.57 | 26.57 |\n",
      "n-gram\n",
      "| GSM8K-train | GSM8K-test | MATH-train | MATH-test |\n",
      "|-------------|------------|------------|-----------|\n",
      "| 18.75 | 18.75 | 18.75 | 18.75 |\n"
     ]
    },
    {
     "name": "stderr",
     "output_type": "stream",
     "text": [
      "\n"
     ]
    }
   ],
   "source": [
    "from calculate_similarity_metrics import *\n",
    "from ppl_and_ngram import *\n",
    "\n",
    "# 数据集路径\n",
    "dataset_names = [\n",
    "                 \"MATH-test\",\n",
    "                 \"MATH-train\",\n",
    "                 \"GSM8K-test\",\n",
    "                 \"GSM8K-train\"\n",
    "                ]\n",
    "\n",
    "# 设置你的参数\n",
    "k = 5  # 你的 starting points 数量\n",
    "\n",
    "results_10grm_summary = {}\n",
    "\n",
    "# 遍历每个数据集并执行测试\n",
    "for dataset_name in dataset_names:\n",
    "    # 加载数据集\n",
    "    dataset_path = f'/home/rjxu/new-gram/datasets/{dataset_name}.jsonl'\n",
    "    dataset = load_data_from_jsonl(dataset_path)\n",
    "\n",
    "    path = f\"/home/rjxu/new-gram/results/10gram-{model_name}-{dataset_name}.json\"\n",
    "\n",
    "    ngram_10_results = calculate_similarity_metrics(10, k, dataset, model, tokenizer, device, path)\n",
    "    print(f\"{dataset_name} 10_gram_accuracy: \")\n",
    "    print(f\"Mean Accuracy Edit Distance: {ngram_10_results['mean_accuracy_edit_distance']}\")\n",
    "    print(f\"Mean Accuracy Rouge-L: {ngram_10_results['mean_accuracy_rouge_l']}\")\n",
    "    print(f\"Mean Accuracy: {ngram_10_results['mean_accuracy']}\")\n",
    "    # 存储结果到字典中\n",
    "    results_10grm_summary[f'{dataset_name}'] = ngram_5_results\n",
    "\n",
    "# 输出 Markdown 格式表格\n",
    "print(\"Edit Distance\")\n",
    "print(\"| GSM8K-train | GSM8K-test | MATH-train | MATH-test |\")\n",
    "print(\"|-------------|------------|------------|-----------|\")\n",
    "\n",
    "print(f\"| {results_10grm_summary['GSM8K-train']['mean_accuracy_edit_distance'] * 100:.2f} | \"\n",
    "      f\"{results_10grm_summary['GSM8K-test']['mean_accuracy_edit_distance'] * 100:.2f} | \"\n",
    "      f\"{results_10grm_summary['MATH-train']['mean_accuracy_edit_distance'] * 100:.2f} | \"\n",
    "      f\"{results_10grm_summary['MATH-test']['mean_accuracy_edit_distance'] * 100:.2f} |\")\n",
    "\n",
    "# 输出 Markdown 格式表格\n",
    "print(\"Rouge-L\")\n",
    "print(\"| GSM8K-train | GSM8K-test | MATH-train | MATH-test |\")\n",
    "print(\"|-------------|------------|------------|-----------|\")\n",
    "\n",
    "print(f\"| {results_10grm_summary['GSM8K-train']['mean_accuracy_rouge_l'] * 100:.2f} | \"\n",
    "      f\"{results_10grm_summary['GSM8K-test']['mean_accuracy_rouge_l'] * 100:.2f} | \"\n",
    "      f\"{results_10grm_summary['MATH-train']['mean_accuracy_rouge_l'] * 100:.2f} | \"\n",
    "      f\"{results_10grm_summary['MATH-test']['mean_accuracy_rouge_l'] * 100:.2f} |\")\n",
    "\n",
    "# 输出 Markdown 格式表格\n",
    "print(\"n-gram\")\n",
    "print(\"| GSM8K-train | GSM8K-test | MATH-train | MATH-test |\")\n",
    "print(\"|-------------|------------|------------|-----------|\")\n",
    "\n",
    "print(f\"| {results_10grm_summary['GSM8K-train']['mean_accuracy'] * 100:.2f} | \"\n",
    "      f\"{results_10grm_summary['GSM8K-test']['mean_accuracy'] * 100:.2f} | \"\n",
    "      f\"{results_10grm_summary['MATH-train']['mean_accuracy'] * 100:.2f} | \"\n",
    "      f\"{results_10grm_summary['MATH-test']['mean_accuracy'] * 100:.2f} |\")"
   ]
  },
  {
   "cell_type": "markdown",
   "id": "88406b57-bce0-435b-aa79-dcd1cb2aefa9",
   "metadata": {},
   "source": [
    "### 测ppl合成数据"
   ]
  },
  {
   "cell_type": "code",
   "execution_count": 2,
   "id": "86f5e559-23fd-4e38-8158-f716d3188ccb",
   "metadata": {},
   "outputs": [
    {
     "name": "stderr",
     "output_type": "stream",
     "text": [
      "Gemma's activation function should be approximate GeLU and not exact GeLU.\n",
      "Changing the activation function to `gelu_pytorch_tanh`.if you want to use the legacy `gelu`, edit the `model.config` to set `hidden_activation=gelu`   instead of `hidden_act`. See https://github.com/huggingface/transformers/pull/29402 for more details.\n"
     ]
    },
    {
     "data": {
      "application/vnd.jupyter.widget-view+json": {
       "model_id": "a4046b22e715408c99d71a714ae0402d",
       "version_major": 2,
       "version_minor": 0
      },
      "text/plain": [
       "Loading checkpoint shards:   0%|          | 0/4 [00:00<?, ?it/s]"
      ]
     },
     "metadata": {},
     "output_type": "display_data"
    },
    {
     "name": "stdout",
     "output_type": "stream",
     "text": [
      "1319\n"
     ]
    },
    {
     "name": "stderr",
     "output_type": "stream",
     "text": [
      "100%|██████████| 1319/1319 [08:38<00:00,  2.55it/s]\n"
     ]
    },
    {
     "name": "stdout",
     "output_type": "stream",
     "text": [
      "GSM8K_rewritten-test-1 Average_ppl_accuracy:  3.0913105150169273\n",
      "1319\n"
     ]
    },
    {
     "name": "stderr",
     "output_type": "stream",
     "text": [
      "100%|██████████| 1319/1319 [08:38<00:00,  2.55it/s]\n"
     ]
    },
    {
     "name": "stdout",
     "output_type": "stream",
     "text": [
      "GSM8K_rewritten-test-2 Average_ppl_accuracy:  3.1224512857772617\n",
      "1319\n"
     ]
    },
    {
     "name": "stderr",
     "output_type": "stream",
     "text": [
      "100%|██████████| 1319/1319 [08:38<00:00,  2.54it/s]\n"
     ]
    },
    {
     "name": "stdout",
     "output_type": "stream",
     "text": [
      "GSM8K_rewritten-test-3 Average_ppl_accuracy:  3.0890247505482984\n",
      "3000\n"
     ]
    },
    {
     "name": "stderr",
     "output_type": "stream",
     "text": [
      "100%|██████████| 3000/3000 [19:36<00:00,  2.55it/s]\n"
     ]
    },
    {
     "name": "stdout",
     "output_type": "stream",
     "text": [
      "GSM8K_rewritten-train-1 Average_ppl_accuracy:  3.0962917334636053\n",
      "3000\n"
     ]
    },
    {
     "name": "stderr",
     "output_type": "stream",
     "text": [
      "100%|██████████| 3000/3000 [19:36<00:00,  2.55it/s]\n"
     ]
    },
    {
     "name": "stdout",
     "output_type": "stream",
     "text": [
      "GSM8K_rewritten-train-2 Average_ppl_accuracy:  3.100403634428978\n",
      "3000\n"
     ]
    },
    {
     "name": "stderr",
     "output_type": "stream",
     "text": [
      "100%|██████████| 3000/3000 [19:35<00:00,  2.55it/s]\n"
     ]
    },
    {
     "name": "stdout",
     "output_type": "stream",
     "text": [
      "GSM8K_rewritten-train-3 Average_ppl_accuracy:  3.1042084426085155\n",
      "3000\n"
     ]
    },
    {
     "name": "stderr",
     "output_type": "stream",
     "text": [
      "100%|██████████| 3000/3000 [19:43<00:00,  2.53it/s]\n"
     ]
    },
    {
     "name": "stdout",
     "output_type": "stream",
     "text": [
      "MATH_rewritten-test-1 Average_ppl_accuracy:  2.821520067413648\n",
      "3000\n"
     ]
    },
    {
     "name": "stderr",
     "output_type": "stream",
     "text": [
      "100%|██████████| 3000/3000 [20:28<00:00,  2.44it/s]\n"
     ]
    },
    {
     "name": "stdout",
     "output_type": "stream",
     "text": [
      "MATH_rewritten-test-2 Average_ppl_accuracy:  2.718368011275927\n",
      "3000\n"
     ]
    },
    {
     "name": "stderr",
     "output_type": "stream",
     "text": [
      "100%|██████████| 3000/3000 [20:27<00:00,  2.44it/s]\n"
     ]
    },
    {
     "name": "stdout",
     "output_type": "stream",
     "text": [
      "MATH_rewritten-test-3 Average_ppl_accuracy:  2.7075223783651987\n",
      "3000\n"
     ]
    },
    {
     "name": "stderr",
     "output_type": "stream",
     "text": [
      "100%|██████████| 3000/3000 [19:55<00:00,  2.51it/s]\n"
     ]
    },
    {
     "name": "stdout",
     "output_type": "stream",
     "text": [
      "MATH_rewritten-train-1 Average_ppl_accuracy:  2.858447554429372\n",
      "3000\n"
     ]
    },
    {
     "name": "stderr",
     "output_type": "stream",
     "text": [
      "100%|██████████| 3000/3000 [20:31<00:00,  2.44it/s]\n"
     ]
    },
    {
     "name": "stdout",
     "output_type": "stream",
     "text": [
      "MATH_rewritten-train-2 Average_ppl_accuracy:  2.7421350757280987\n",
      "3000\n"
     ]
    },
    {
     "name": "stderr",
     "output_type": "stream",
     "text": [
      "100%|██████████| 3000/3000 [20:30<00:00,  2.44it/s]"
     ]
    },
    {
     "name": "stdout",
     "output_type": "stream",
     "text": [
      "MATH_rewritten-train-3 Average_ppl_accuracy:  2.7448879845142367\n",
      "GSM8K_rewritten-test-1: 3.0913105150169273\n",
      "GSM8K_rewritten-test-2: 3.1224512857772617\n",
      "GSM8K_rewritten-test-3: 3.0890247505482984\n",
      "GSM8K_rewritten-train-1: 3.0962917334636053\n",
      "GSM8K_rewritten-train-2: 3.100403634428978\n",
      "GSM8K_rewritten-train-3: 3.1042084426085155\n",
      "MATH_rewritten-test-1: 2.821520067413648\n",
      "MATH_rewritten-test-2: 2.718368011275927\n",
      "MATH_rewritten-test-3: 2.7075223783651987\n",
      "MATH_rewritten-train-1: 2.858447554429372\n",
      "MATH_rewritten-train-2: 2.7421350757280987\n",
      "MATH_rewritten-train-3: 2.7448879845142367\n",
      "ppl\n",
      "| GSM8K-train-1 | GSM8K-train-2 | GSM8K-train-3 | GSM8K-test-1 | GSM8K-test-2 | GSM8K-test-3 | MATH-train-1 | MATH-train-2 | MATH-train-3 | MATH-test-1 | MATH-test-2 | MATH-test-3 |\n",
      "|---------------|---------------|---------------|--------------|--------------|--------------|--------------|--------------|--------------|-------------|-------------|-------------|\n",
      "| 3.10 | 3.10 | 3.10 | 3.09 | 3.12 | 3.09 | 2.86 | 2.74 | 2.74 | 2.82 | 2.72 | 2.71 |\n"
     ]
    },
    {
     "name": "stderr",
     "output_type": "stream",
     "text": [
      "\n"
     ]
    }
   ],
   "source": [
    "from ppl_and_ngram import *\n",
    "\n",
    "\n",
    "# 数据集路径\n",
    "dataset_names = [\n",
    "                \"GSM8K_rewritten-test-1\",\n",
    "                \"GSM8K_rewritten-test-2\",\n",
    "                \"GSM8K_rewritten-test-3\",\n",
    "                \"GSM8K_rewritten-train-1\",\n",
    "                \"GSM8K_rewritten-train-2\",\n",
    "                \"GSM8K_rewritten-train-3\",\n",
    "                \"MATH_rewritten-test-1\",\n",
    "                \"MATH_rewritten-test-2\",\n",
    "                \"MATH_rewritten-test-3\",\n",
    "                \"MATH_rewritten-train-1\",\n",
    "                \"MATH_rewritten-train-2\",\n",
    "                \"MATH_rewritten-train-3\"\n",
    "                ]\n",
    "\n",
    "model, tokenizer = load_model(model_path, device)\n",
    "\n",
    "results_ppl_summary = {}\n",
    "\n",
    "# 遍历每个数据集并执行测试\n",
    "for dataset_name in dataset_names:\n",
    "    # 加载数据集\n",
    "    dataset_path = f'/data/rjxu/MATH&GSM8K/{dataset_name}.jsonl'\n",
    "    dataset = load_data_from_jsonl(dataset_path)\n",
    "\n",
    "    # 执行计算\n",
    "    output_file_ppl = f'/home/rjxu/rewritten/ppl/ppl-{model_name}-{dataset_name}.jsonl'\n",
    "    ppl_results = calculate_answer_ppl(dataset, model, tokenizer, device, output_file_ppl)\n",
    "    print(f\"{dataset_name} Average_ppl_accuracy: \", ppl_results[\"mean_perplexity\"])\n",
    "    results_ppl_summary[f'{dataset_name}'] = ppl_results[\"mean_perplexity\"]\n",
    "\n",
    "for key, value in results_ppl_summary.items():\n",
    "    print(f\"{key}: {value}\")\n",
    "print(\"ppl\")\n",
    "print(\"| GSM8K-train-1 | GSM8K-train-2 | GSM8K-train-3 | GSM8K-test-1 | GSM8K-test-2 | GSM8K-test-3 | MATH-train-1 | MATH-train-2 | MATH-train-3 | MATH-test-1 | MATH-test-2 | MATH-test-3 |\")\n",
    "print(\"|---------------|---------------|---------------|--------------|--------------|--------------|--------------|--------------|--------------|-------------|-------------|-------------|\")\n",
    "print(f\"| {results_ppl_summary['GSM8K_rewritten-train-1']:.2f} | {results_ppl_summary['GSM8K_rewritten-train-2']:.2f} | {results_ppl_summary['GSM8K_rewritten-train-3']:.2f} | \"\n",
    "      f\"{results_ppl_summary['GSM8K_rewritten-test-1']:.2f} | {results_ppl_summary['GSM8K_rewritten-test-2']:.2f} | {results_ppl_summary['GSM8K_rewritten-test-3']:.2f} | \"\n",
    "      f\"{results_ppl_summary['MATH_rewritten-train-1']:.2f} | {results_ppl_summary['MATH_rewritten-train-2']:.2f} | {results_ppl_summary['MATH_rewritten-train-3']:.2f} | \"\n",
    "      f\"{results_ppl_summary['MATH_rewritten-test-1']:.2f} | {results_ppl_summary['MATH_rewritten-test-2']:.2f} | {results_ppl_summary['MATH_rewritten-test-3']:.2f} |\")"
   ]
  },
  {
   "cell_type": "markdown",
   "id": "34bbd49d-ec06-41ca-8e05-b75b45f53911",
   "metadata": {},
   "source": [
    "### 测ppl原数据"
   ]
  },
  {
   "cell_type": "code",
   "execution_count": 3,
   "id": "2b6e739f-42b0-443b-98ca-70feaff81c66",
   "metadata": {},
   "outputs": [
    {
     "name": "stdout",
     "output_type": "stream",
     "text": [
      "3000\n"
     ]
    },
    {
     "name": "stderr",
     "output_type": "stream",
     "text": [
      "100%|██████████| 3000/3000 [20:19<00:00,  2.46it/s]\n"
     ]
    },
    {
     "name": "stdout",
     "output_type": "stream",
     "text": [
      "MATH-test Average_ppl_accuracy:  2.4194161751270293\n",
      "3000\n"
     ]
    },
    {
     "name": "stderr",
     "output_type": "stream",
     "text": [
      "100%|██████████| 3000/3000 [20:30<00:00,  2.44it/s]\n"
     ]
    },
    {
     "name": "stdout",
     "output_type": "stream",
     "text": [
      "MATH-train Average_ppl_accuracy:  2.457964661359787\n",
      "1319\n"
     ]
    },
    {
     "name": "stderr",
     "output_type": "stream",
     "text": [
      "100%|██████████| 1319/1319 [08:39<00:00,  2.54it/s]\n"
     ]
    },
    {
     "name": "stdout",
     "output_type": "stream",
     "text": [
      "GSM8K-test Average_ppl_accuracy:  2.9528017035933316\n",
      "3000\n"
     ]
    },
    {
     "name": "stderr",
     "output_type": "stream",
     "text": [
      "100%|██████████| 3000/3000 [19:38<00:00,  2.55it/s]"
     ]
    },
    {
     "name": "stdout",
     "output_type": "stream",
     "text": [
      "GSM8K-train Average_ppl_accuracy:  2.9656837712526323\n",
      "MATH-test: 2.4194161751270293\n",
      "MATH-train: 2.457964661359787\n",
      "GSM8K-test: 2.9528017035933316\n",
      "GSM8K-train: 2.9656837712526323\n",
      "ppl\n",
      "| GSM8K-train | GSM8K-test | MATH-train | MATH-test |\n",
      "|-------------|------------|------------|-----------|\n"
     ]
    },
    {
     "name": "stderr",
     "output_type": "stream",
     "text": [
      "\n"
     ]
    },
    {
     "ename": "KeyError",
     "evalue": "'GSM8K-train-'",
     "output_type": "error",
     "traceback": [
      "\u001b[0;31m---------------------------------------------------------------------------\u001b[0m",
      "\u001b[0;31mKeyError\u001b[0m                                  Traceback (most recent call last)",
      "Cell \u001b[0;32mIn[3], line 29\u001b[0m\n\u001b[1;32m     27\u001b[0m \u001b[38;5;28mprint\u001b[39m(\u001b[38;5;124m\"\u001b[39m\u001b[38;5;124m| GSM8K-train | GSM8K-test | MATH-train | MATH-test |\u001b[39m\u001b[38;5;124m\"\u001b[39m)\n\u001b[1;32m     28\u001b[0m \u001b[38;5;28mprint\u001b[39m(\u001b[38;5;124m\"\u001b[39m\u001b[38;5;124m|-------------|------------|------------|-----------|\u001b[39m\u001b[38;5;124m\"\u001b[39m)\n\u001b[0;32m---> 29\u001b[0m \u001b[38;5;28mprint\u001b[39m(\u001b[38;5;124mf\u001b[39m\u001b[38;5;124m\"\u001b[39m\u001b[38;5;124m| \u001b[39m\u001b[38;5;132;01m{\u001b[39;00mresults_ppl_summary[\u001b[38;5;124m'\u001b[39m\u001b[38;5;124mGSM8K-train-\u001b[39m\u001b[38;5;124m'\u001b[39m]\u001b[38;5;132;01m:\u001b[39;00m\u001b[38;5;124m.2f\u001b[39m\u001b[38;5;132;01m}\u001b[39;00m\u001b[38;5;124m | \u001b[39m\u001b[38;5;124m\"\u001b[39m\n\u001b[1;32m     30\u001b[0m       \u001b[38;5;124mf\u001b[39m\u001b[38;5;124m\"\u001b[39m\u001b[38;5;132;01m{\u001b[39;00mresults_ppl_summary[\u001b[38;5;124m'\u001b[39m\u001b[38;5;124mGSM8K-test\u001b[39m\u001b[38;5;124m'\u001b[39m]\u001b[38;5;132;01m:\u001b[39;00m\u001b[38;5;124m.2f\u001b[39m\u001b[38;5;132;01m}\u001b[39;00m\u001b[38;5;124m | \u001b[39m\u001b[38;5;124m\"\u001b[39m\n\u001b[1;32m     31\u001b[0m       \u001b[38;5;124mf\u001b[39m\u001b[38;5;124m\"\u001b[39m\u001b[38;5;132;01m{\u001b[39;00mresults_ppl_summary[\u001b[38;5;124m'\u001b[39m\u001b[38;5;124mMATH-train\u001b[39m\u001b[38;5;124m'\u001b[39m]\u001b[38;5;132;01m:\u001b[39;00m\u001b[38;5;124m.2f\u001b[39m\u001b[38;5;132;01m}\u001b[39;00m\u001b[38;5;124m | \u001b[39m\u001b[38;5;124m\"\u001b[39m\n\u001b[1;32m     32\u001b[0m       \u001b[38;5;124mf\u001b[39m\u001b[38;5;124m\"\u001b[39m\u001b[38;5;132;01m{\u001b[39;00mresults_ppl_summary[\u001b[38;5;124m'\u001b[39m\u001b[38;5;124mMATH-test\u001b[39m\u001b[38;5;124m'\u001b[39m]\u001b[38;5;132;01m:\u001b[39;00m\u001b[38;5;124m.2f\u001b[39m\u001b[38;5;132;01m}\u001b[39;00m\u001b[38;5;124m\"\u001b[39m)\n",
      "\u001b[0;31mKeyError\u001b[0m: 'GSM8K-train-'"
     ]
    }
   ],
   "source": [
    "dataset_names = [\n",
    "                 \"MATH-test\",\n",
    "                 \"MATH-train\",\n",
    "                 \"GSM8K-test\",\n",
    "                 \"GSM8K-train\"\n",
    "                ]\n",
    "\n",
    "# model, tokenizer = load_model(model_path, device)\n",
    "\n",
    "results_ppl_summary = {}\n",
    "\n",
    "# 遍历每个数据集并执行测试\n",
    "for dataset_name in dataset_names:\n",
    "    # 加载数据集\n",
    "    dataset_path = f'/home/rjxu/new-gram/datasets/{dataset_name}.jsonl'\n",
    "    dataset = load_data_from_jsonl(dataset_path)\n",
    "\n",
    "    # 执行计算\n",
    "    output_file_ppl = f'/home/rjxu/rewritten/ppl/ppl-{model_name}-{dataset_name}.jsonl'\n",
    "    ppl_results = calculate_answer_ppl(dataset, model, tokenizer, device, output_file_ppl)\n",
    "    print(f\"{dataset_name} Average_ppl_accuracy: \", ppl_results[\"mean_perplexity\"])\n",
    "    results_ppl_summary[f'{dataset_name}'] = ppl_results[\"mean_perplexity\"]\n",
    "\n",
    "for key, value in results_ppl_summary.items():\n",
    "    print(f\"{key}: {value}\")\n",
    "print(\"ppl\")\n",
    "print(\"| GSM8K-train | GSM8K-test | MATH-train | MATH-test |\")\n",
    "print(\"|-------------|------------|------------|-----------|\")\n",
    "print(f\"| {results_ppl_summary['GSM8K-train-']:.2f} | \"\n",
    "      f\"{results_ppl_summary['GSM8K-test']:.2f} | \"\n",
    "      f\"{results_ppl_summary['MATH-train']:.2f} | \"\n",
    "      f\"{results_ppl_summary['MATH-test']:.2f}\")"
   ]
  },
  {
   "cell_type": "code",
   "execution_count": 4,
   "id": "2b2271e0-933e-420a-92bb-065d4ab315b8",
   "metadata": {},
   "outputs": [
    {
     "name": "stdout",
     "output_type": "stream",
     "text": [
      "| GSM8K-train | GSM8K-test | MATH-train | MATH-test |\n",
      "|-------------|------------|------------|-----------|\n",
      "| 2.97 | 2.95 | 2.46 | 2.42 |\n"
     ]
    }
   ],
   "source": [
    "print(\"| GSM8K-train | GSM8K-test | MATH-train | MATH-test |\")\n",
    "print(\"|-------------|------------|------------|-----------|\")\n",
    "print(f\"| {results_ppl_summary['GSM8K-train']:.2f} | \"\n",
    "      f\"{results_ppl_summary['GSM8K-test']:.2f} | \"\n",
    "      f\"{results_ppl_summary['MATH-train']:.2f} | \"\n",
    "      f\"{results_ppl_summary['MATH-test']:.2f} |\")"
   ]
  },
  {
   "cell_type": "markdown",
   "id": "95e2c30b-a29f-4301-a53b-68f3dbefe2a3",
   "metadata": {},
   "source": [
    "### 如果测试过程中断，可以通过复制日志输出将已有记录存入字典，继续测试"
   ]
  },
  {
   "cell_type": "code",
   "execution_count": 1,
   "id": "250ce85d-ce90-4cd4-bb79-876a59293293",
   "metadata": {},
   "outputs": [
    {
     "data": {
      "text/plain": [
       "({'GSM8K_rewritten-test-1': 0.002577710386656558,\n",
       "  'GSM8K_rewritten-test-2': 0.0027293404094010615,\n",
       "  'GSM8K_rewritten-test-3': 0.003032600454890068,\n",
       "  'GSM8K_rewritten-train-1': 0.0019333333333333336,\n",
       "  'GSM8K_rewritten-train-2': 0.002266666666666667,\n",
       "  'GSM8K_rewritten-train-3': 0.002866666666666667,\n",
       "  'MATH_rewritten-test-1': 0.003266666666666667,\n",
       "  'MATH_rewritten-test-2': 0.003733333333333334,\n",
       "  'MATH_rewritten-test-3': 0.003866666666666667},\n",
       " {'GSM8K_rewritten-test-1': 0.0,\n",
       "  'GSM8K_rewritten-test-2': 0.0,\n",
       "  'GSM8K_rewritten-test-3': 0.0,\n",
       "  'GSM8K_rewritten-train-1': 0.0,\n",
       "  'GSM8K_rewritten-train-2': 6.666666666666667,\n",
       "  'GSM8K_rewritten-train-3': 0.0,\n",
       "  'MATH_rewritten-test-1': 6.666666666666667,\n",
       "  'MATH_rewritten-test-2': 6.666666666666667})"
      ]
     },
     "execution_count": 1,
     "metadata": {},
     "output_type": "execute_result"
    }
   ],
   "source": [
    "import re\n",
    "\n",
    "# 假设这是从日志文件中读取的内容\n",
    "log_data = \"\"\"\n",
    "GSM8K_rewritten-test-1 5_gram_accuracy:  0.002577710386656558\n",
    "no special token\n",
    "100%|██████████| 1319/1319 [08:17<00:00,  2.65it/s]\n",
    "Using eos_token, but it is not set yet.\n",
    "GSM8K_rewritten-test-1 10_gram_accuracy:  0.0\n",
    "1319\n",
    "no special token\n",
    "100%|██████████| 1319/1319 [04:28<00:00,  4.91it/s]\n",
    "Using eos_token, but it is not set yet.\n",
    "GSM8K_rewritten-test-2 5_gram_accuracy:  0.0027293404094010615\n",
    "no special token\n",
    "100%|██████████| 1319/1319 [08:14<00:00,  2.66it/s]\n",
    "Using eos_token, but it is not set yet.\n",
    "GSM8K_rewritten-test-2 10_gram_accuracy:  0.0\n",
    "1319\n",
    "no special token\n",
    "100%|██████████| 1319/1319 [04:29<00:00,  4.89it/s]\n",
    "Using eos_token, but it is not set yet.\n",
    "GSM8K_rewritten-test-3 5_gram_accuracy:  0.003032600454890068\n",
    "no special token\n",
    "100%|██████████| 1319/1319 [08:21<00:00,  2.63it/s]\n",
    "Using eos_token, but it is not set yet.\n",
    "GSM8K_rewritten-test-3 10_gram_accuracy:  0.0\n",
    "3000\n",
    "no special token\n",
    "100%|██████████| 3000/3000 [10:16<00:00,  4.86it/s]\n",
    "Using eos_token, but it is not set yet.\n",
    "GSM8K_rewritten-train-1 5_gram_accuracy:  0.0019333333333333336\n",
    "no special token\n",
    "100%|██████████| 3000/3000 [19:00<00:00,  2.63it/s]\n",
    "Using eos_token, but it is not set yet.\n",
    "GSM8K_rewritten-train-1 10_gram_accuracy:  0.0\n",
    "3000\n",
    "no special token\n",
    "100%|██████████| 3000/3000 [10:14<00:00,  4.89it/s]\n",
    "Using eos_token, but it is not set yet.\n",
    "GSM8K_rewritten-train-2 5_gram_accuracy:  0.002266666666666667\n",
    "no special token\n",
    "100%|██████████| 3000/3000 [18:43<00:00,  2.67it/s]\n",
    "Using eos_token, but it is not set yet.\n",
    "GSM8K_rewritten-train-2 10_gram_accuracy:  6.666666666666667e-05\n",
    "3000\n",
    "no special token\n",
    "100%|██████████| 3000/3000 [10:14<00:00,  4.88it/s]\n",
    "Using eos_token, but it is not set yet.\n",
    "GSM8K_rewritten-train-3 5_gram_accuracy:  0.002866666666666667\n",
    "no special token\n",
    "100%|██████████| 3000/3000 [18:48<00:00,  2.66it/s]\n",
    "Using eos_token, but it is not set yet.\n",
    "Token indices sequence length is longer than the specified maximum sequence length for this model (592 > 512). Running this sequence through the model will result in indexing errors\n",
    "GSM8K_rewritten-train-3 10_gram_accuracy:  0.0\n",
    "3000\n",
    "no special token\n",
    "  8%|▊         | 236/3000 [00:48<09:26,  4.88it/s]This is a friendly reminder - the current text generation call will exceed the model's predefined maximum length (512). Depending on the model, you may observe exceptions, performance degradation, or nothing at all.\n",
    "100%|██████████| 3000/3000 [10:19<00:00,  4.84it/s]\n",
    "Using eos_token, but it is not set yet.\n",
    "MATH_rewritten-test-1 5_gram_accuracy:  0.003266666666666667\n",
    "no special token\n",
    "100%|██████████| 3000/3000 [18:51<00:00,  2.65it/s]\n",
    "Using eos_token, but it is not set yet.\n",
    "MATH_rewritten-test-1 10_gram_accuracy:  6.666666666666667e-05\n",
    "3000\n",
    "no special token\n",
    "100%|██████████| 3000/3000 [10:11<00:00,  4.91it/s]\n",
    "Using eos_token, but it is not set yet.\n",
    "MATH_rewritten-test-2 5_gram_accuracy:  0.003733333333333334\n",
    "no special token\n",
    "100%|██████████| 3000/3000 [18:43<00:00,  2.67it/s]\n",
    "Using eos_token, but it is not set yet.\n",
    "MATH_rewritten-test-2 10_gram_accuracy:  6.666666666666667e-05\n",
    "3000\n",
    "no special token\n",
    "100%|██████████| 3000/3000 [10:11<00:00,  4.90it/s]\n",
    "Using eos_token, but it is not set yet.\n",
    "MATH_rewritten-test-3 5_gram_accuracy:  0.003866666666666667\n",
    "\"\"\"\n",
    "\n",
    "results_5grm_summary = {}\n",
    "results_10grm_summary = {}\n",
    "\n",
    "# 使用正则表达式解析日志数据\n",
    "for match in re.finditer(r'(GSM8K_rewritten-\\w+-\\d+|MATH_rewritten-\\w+-\\d+) (\\d+_gram)_accuracy:\\s+([\\d\\.]+)', log_data):\n",
    "    dataset, gram, accuracy = match.groups()\n",
    "    accuracy = float(accuracy)\n",
    "    \n",
    "    if gram == '5_gram':\n",
    "        results_5grm_summary[dataset] = accuracy\n",
    "    elif gram == '10_gram':\n",
    "        results_10grm_summary[dataset] = accuracy\n",
    "\n",
    "results_5grm_summary, results_10grm_summary"
   ]
  },
  {
   "cell_type": "markdown",
   "id": "07f11d7b-d6c7-44c7-8512-782fe415bdf5",
   "metadata": {},
   "source": [
    "### 将打印出来的md格式表格，去除“|---|--”一行后复制过来，生成excel文件（注意修改路径）"
   ]
  },
  {
   "cell_type": "code",
   "execution_count": 10,
   "id": "839caaef-0e57-4dda-85c9-7aac2138722c",
   "metadata": {},
   "outputs": [
    {
     "data": {
      "text/html": [
       "<div>\n",
       "<style scoped>\n",
       "    .dataframe tbody tr th:only-of-type {\n",
       "        vertical-align: middle;\n",
       "    }\n",
       "\n",
       "    .dataframe tbody tr th {\n",
       "        vertical-align: top;\n",
       "    }\n",
       "\n",
       "    .dataframe thead th {\n",
       "        text-align: right;\n",
       "    }\n",
       "</style>\n",
       "<table border=\"1\" class=\"dataframe\">\n",
       "  <thead>\n",
       "    <tr style=\"text-align: right;\">\n",
       "      <th></th>\n",
       "      <th>model_type</th>\n",
       "      <th>MATH-seen-rewritten-1</th>\n",
       "      <th>MATH-seen-rewritten-2</th>\n",
       "      <th>MATH-seen-rewritten-3</th>\n",
       "      <th>MATH-seen-orgn</th>\n",
       "      <th>MATH-unseen-rewritten-1</th>\n",
       "      <th>MATH-unseen-rewritten-2</th>\n",
       "      <th>MATH-unseen-rewritten-3</th>\n",
       "      <th>MATH-unseen-orgn</th>\n",
       "    </tr>\n",
       "  </thead>\n",
       "  <tbody>\n",
       "    <tr>\n",
       "      <th>0</th>\n",
       "      <td>full_loss</td>\n",
       "      <td>3.82</td>\n",
       "      <td>3.56</td>\n",
       "      <td>3.55</td>\n",
       "      <td>2.41</td>\n",
       "      <td>4.49</td>\n",
       "      <td>4.25</td>\n",
       "      <td>4.26</td>\n",
       "      <td>3.78</td>\n",
       "    </tr>\n",
       "    <tr>\n",
       "      <th>1</th>\n",
       "      <td>answer_loss</td>\n",
       "      <td>4.18</td>\n",
       "      <td>3.98</td>\n",
       "      <td>3.97</td>\n",
       "      <td>3.16</td>\n",
       "      <td>4.69</td>\n",
       "      <td>4.48</td>\n",
       "      <td>4.49</td>\n",
       "      <td>4.13</td>\n",
       "    </tr>\n",
       "    <tr>\n",
       "      <th>2</th>\n",
       "      <td>Mistral-7b</td>\n",
       "      <td>4.34</td>\n",
       "      <td>4.15</td>\n",
       "      <td>4.15</td>\n",
       "      <td>3.88</td>\n",
       "      <td>4.38</td>\n",
       "      <td>4.20</td>\n",
       "      <td>4.20</td>\n",
       "      <td>3.95</td>\n",
       "    </tr>\n",
       "  </tbody>\n",
       "</table>\n",
       "</div>"
      ],
      "text/plain": [
       "    model_type  MATH-seen-rewritten-1  MATH-seen-rewritten-2  \\\n",
       "0    full_loss                   3.82                   3.56   \n",
       "1  answer_loss                   4.18                   3.98   \n",
       "2   Mistral-7b                   4.34                   4.15   \n",
       "\n",
       "   MATH-seen-rewritten-3  MATH-seen-orgn  MATH-unseen-rewritten-1  \\\n",
       "0                   3.55            2.41                     4.49   \n",
       "1                   3.97            3.16                     4.69   \n",
       "2                   4.15            3.88                     4.38   \n",
       "\n",
       "   MATH-unseen-rewritten-2  MATH-unseen-rewritten-3  MATH-unseen-orgn  \n",
       "0                     4.25                     4.26              3.78  \n",
       "1                     4.48                     4.49              4.13  \n",
       "2                     4.20                     4.20              3.95  "
      ]
     },
     "execution_count": 10,
     "metadata": {},
     "output_type": "execute_result"
    }
   ],
   "source": [
    "import pandas as pd\n",
    "from io import StringIO\n",
    "import openpyxl\n",
    "\n",
    "# 定义Markdown表格数据\n",
    "markdown_table = \"\"\"\n",
    "| model_type  | MATH-seen-rewritten-1 | MATH-seen-rewritten-2 | MATH-seen-rewritten-3 | MATH-seen-orgn | MATH-unseen-rewritten-1 | MATH-unseen-rewritten-2 | MATH-unseen-rewritten-3 | MATH-unseen-orgn |\n",
    "| full_loss   | 3.82 | 3.56 | 3.55 | 2.41 | 4.49 | 4.25 | 4.26 | 3.78 |\n",
    "| answer_loss | 4.18 | 3.98 | 3.97 | 3.16 | 4.69 | 4.48 | 4.49 | 4.13 |\n",
    "| Mistral-7b  | 4.34 | 4.15 | 4.15 | 3.88 | 4.38 | 4.20 | 4.20 | 3.95 |\n",
    "\"\"\"\n",
    "# 修正每行的开头和结尾，以确保不会因为解析问题而创建未命名的列\n",
    "cleaned_lines = []\n",
    "for line in markdown_table.strip().split('\\n'):\n",
    "    cleaned_line = line.strip('|')  # 去除每行开头和结尾的'|'\n",
    "    cleaned_lines.append(cleaned_line)\n",
    "cleaned_markdown_table = '\\n'.join(cleaned_lines)\n",
    "\n",
    "# 使用StringIO读取清理后的数据\n",
    "markdown_table_io = StringIO(cleaned_markdown_table)\n",
    "\n",
    "# print(cleaned_markdown_table)\n",
    "\n",
    "# 读取数据，这次不需要特别处理未命名列\n",
    "df = pd.read_csv(markdown_table_io, sep='\\s*\\|\\s*', engine='python')\n",
    "\n",
    "# 指定一个绝对路径来保存Excel文件\n",
    "output_path = 'C:\\\\Users\\\\26848\\\\Downloads\\\\meta-M-mink.xlsx'  # 替换为你想要保存文件的确切路径\n",
    "\n",
    "# 保存DataFrame到Excel文件\n",
    "df.to_excel(output_path, index=False)\n",
    "\n",
    "print(f\"Markdown表格（包括标题行）已成功保存为Excel文件 '{output_path}'\")\n",
    "\n",
    "df"
   ]
  },
  {
   "cell_type": "markdown",
   "id": "eeba5b48-8b22-40d5-b98a-0f9c6d79dbcc",
   "metadata": {},
   "source": [
    "### 绘制总实验结果图"
   ]
  },
  {
   "cell_type": "code",
   "execution_count": null,
   "id": "47affea8-ab66-4db4-9086-0345426ec411",
   "metadata": {},
   "outputs": [],
   "source": [
    "import pandas as pd\n",
    "import matplotlib.pyplot as plt\n",
    "import numpy as np\n",
    "\n",
    "plt.rcParams['font.family'] = 'Times New Roman'\n",
    "plt.rcParams['font.size'] = 14\n",
    "\n",
    "# Read the Excel file\n",
    "data = pd.read_excel(r\"C:\\Users\\26848\\Downloads\\plot2.xlsx\")\n",
    "\n",
    "# Define the figure size and other properties for the plot\n",
    "fig, ax = plt.subplots(figsize=(14, 6))\n",
    "\n",
    "# Calculate the positions for the bars and the width\n",
    "positions = np.arange(len(data))\n",
    "width = 0.35\n",
    "\n",
    "# Define the color scheme for the bars and lines\n",
    "color_train = 'mediumseagreen'\n",
    "color_test = 'darkslategray'\n",
    "\n",
    "# Create the bars for Δ-train and Δ-test\n",
    "ax.bar(positions - width/2, data['Δ-train'], width, label='Δ-train', color=color_train)\n",
    "ax.bar(positions + width/2, data['Δ-test'], width, label='Δ-test', color=color_test)\n",
    "\n",
    "ax2 = ax.twinx()\n",
    "\n",
    "# Create the points for Δ%-train and Δ%-test\n",
    "ax2.scatter(positions, data['Δ%-train'], color=color_train, zorder=5)\n",
    "ax2.scatter(positions, data['Δ%-test'], color=color_test, zorder=5)\n",
    "\n",
    "# Connect the points with lines\n",
    "ax2.plot(positions, data['Δ%-train'], color=color_train, label='Δ%-train')\n",
    "ax2.plot(positions, data['Δ%-test'], color=color_test, label='Δ%-test')\n",
    "\n",
    "# Invert the y-axis so 0 is on top\n",
    "ax.invert_yaxis()\n",
    "ax2.invert_yaxis()\n",
    "\n",
    "# Set the x-ticks and labels\n",
    "ax.set_xticks(positions)\n",
    "ax.set_xticklabels(data['avg_ppl(answer)'], rotation=45, ha='right')\n",
    "\n",
    "# Align the labels with the center between the bars\n",
    "for label, pos in zip(ax.get_xticklabels(), positions):\n",
    "    label.set_x(pos - width/2)  # shift to the left by half the width of the bar to center\n",
    "\n",
    "# Add labels, title, grid, and legend\n",
    "# ax.set_xlabel('Models')\n",
    "ax.set_ylabel('Decrement')\n",
    "ax.set_title('Comparative Performance Decline: Original vs. Synthetic')\n",
    "ax.grid(True)\n",
    "# ax.legend()\n",
    "\n",
    "# 创建图例的句柄\n",
    "bar_seen_handle = mpatches.Patch(color=color_seen, label='$\\Delta_{Train}$')\n",
    "bar_unseen_handle = mpatches.Patch(color=color_unseen, label='$\\Delta_{Test}$')\n",
    "line_seen_handle = mlines.Line2D([], [], color=color_seen, marker='o', linestyle='-', label='$\\hat{\\Delta}_{Train}$')\n",
    "line_unseen_handle = mlines.Line2D([], [], color=color_unseen, marker='o', linestyle='-', label='$\\hat{\\Delta}_{Test}$')\n",
    "\n",
    "# 将它们组合到handles和labels列表中\n",
    "handles = [bar_seen_handle, bar_unseen_handle, line_seen_handle, line_unseen_handle]\n",
    "labels = [h.get_label() for h in handles]\n",
    "\n",
    "plt.legend(handles, labels, loc='lower right', bbox_to_anchor=(1, 0))\n",
    "\n",
    "# Tight layout to prevent clipping of tick labels\n",
    "plt.tight_layout()\n",
    "\n",
    "# Save the figure as a .png file\n",
    "plt.savefig(r\"C:\\Users\\26848\\Downloads\\main_results(ppl-G).pdf\", format='pdf')\n",
    "\n",
    "# Show the plot\n",
    "plt.show()\n"
   ]
  },
  {
   "cell_type": "markdown",
   "id": "2e29223b-0c2f-44c3-bfd9-5d7942628c2f",
   "metadata": {},
   "source": [
    "### 绘制meta实验结果图"
   ]
  },
  {
   "cell_type": "code",
   "execution_count": null,
   "id": "959267e7-4e5d-48df-8fb1-d79489880999",
   "metadata": {},
   "outputs": [],
   "source": [
    "import pandas as pd\n",
    "import matplotlib.pyplot as plt\n",
    "import numpy as np\n",
    "import matplotlib.lines as mlines\n",
    "import matplotlib.patches as mpatches\n",
    "\n",
    "plt.rcParams['font.family'] = 'Times New Roman'\n",
    "plt.rcParams['font.size'] = 17\n",
    "\n",
    "# 读取Excel文件中所有工作表的名字\n",
    "xls = pd.ExcelFile(r\"C:\\Users\\26848\\Downloads\\meta-plots.xlsx\")\n",
    "sheet_names = xls.sheet_names\n",
    "\n",
    "# 定义子图的布局：1行，列数等于工作表的数量\n",
    "fig, axs = plt.subplots(1, len(sheet_names), figsize=(4*len(sheet_names), 6))\n",
    "\n",
    "# 定义颜色方案\n",
    "color_seen = 'mediumseagreen'\n",
    "color_unseen = 'darkslategray'\n",
    "\n",
    "# color_seen = '#4E95D9'\n",
    "# color_unseen = '#8ED973'\n",
    "\n",
    "# 设置比例尺\n",
    "# 对于前两张图和后两张图的不同刻度设置\n",
    "scale1 = [0, 3, 6, 9, 12]  # Δ-train 和 Δ-test 的刻度\n",
    "scale2 = [0, 6, 12, 18, 24]   # Δ%-train 和 Δ%-test 的刻度\n",
    "scale3 = [0, 0.2, 0.4, 0.6, 0.8]  # Δ-train 和 Δ-test 的刻度\n",
    "scale4 = [0, 11, 22, 33, 44]   # Δ%-train 和 Δ%-test 的刻度\n",
    "\n",
    "# 为每个工作表创建一个子图\n",
    "for i, sheet_name in enumerate(sheet_names):\n",
    "    data = pd.read_excel(xls, sheet_name=sheet_name)\n",
    "    positions = np.arange(len(data))\n",
    "    width = 0.35\n",
    "\n",
    "    # 绘制条形图\n",
    "    # axs[i].bar(positions - width/2, data['Δ-seen'], width, label='Δ-seen', color=color_seen, alpha=0.5)\n",
    "    # axs[i].bar(positions + width/2, data['Δ-unseen'], width, label='Δ-unseen', color=color_unseen, alpha=0.5)\n",
    "    \n",
    "    # 绘制条形图\n",
    "    axs[i].bar(positions - width/2, data['Δ-seen'], width, label='Δ-seen', color=color_seen)\n",
    "    axs[i].bar(positions + width/2, data['Δ-unseen'], width, label='Δ-unseen', color=color_unseen)\n",
    "    \n",
    "    # 设置第一个和第二个y轴\n",
    "    if i < 2:\n",
    "        axs[i].set_yticks(scale1)\n",
    "        ax2 = axs[i].twinx()\n",
    "        ax2.set_ylim(0, max(scale2))  # 明确设置y轴显示范围\n",
    "        ax2.set_yticks(scale2)\n",
    "    else:\n",
    "        axs[i].set_yticks(scale3)\n",
    "        ax2 = axs[i].twinx()\n",
    "        if i == 3:\n",
    "            ax2.set_ylim(0, max(scale4))  # 明确设置y轴显示范围\n",
    "        ax2.set_yticks(scale4)\n",
    "\n",
    "    # 反转y轴\n",
    "    axs[i].invert_yaxis()\n",
    "    ax2.invert_yaxis()\n",
    "\n",
    "    # 绘制散点图和线图\n",
    "    ax2.scatter(positions, data['Δ%-seen'], color=color_seen, zorder=5)\n",
    "    ax2.scatter(positions, data['Δ%-unseen'], color=color_unseen, zorder=5)\n",
    "    ax2.plot(positions, data['Δ%-seen'], color=color_seen, label='Δ%-seen')\n",
    "    ax2.plot(positions, data['Δ%-unseen'], color=color_unseen, label='Δ%-unseen')\n",
    "\n",
    "    # 设置图表属性\n",
    "    axs[i].set_xticks(positions)\n",
    "    axs[i].set_xticklabels(data['Model Type'], rotation=45, ha='right')\n",
    "    axs[i].set_title(sheet_name, fontsize=17)\n",
    "    axs[i].grid(True)\n",
    "\n",
    "# 创建图例的句柄\n",
    "bar_seen_handle = mpatches.Patch(color=color_seen, label='$\\Delta_{Seen}$')\n",
    "bar_unseen_handle = mpatches.Patch(color=color_unseen, label='$\\Delta_{Unseen}$')\n",
    "line_seen_handle = mlines.Line2D([], [], color=color_seen, marker='o', linestyle='-', label='$\\hat{\\Delta}_{Seen}$')\n",
    "line_unseen_handle = mlines.Line2D([], [], color=color_unseen, marker='o', linestyle='-', label='$\\hat{\\Delta}_{Unseen}$')\n",
    "\n",
    "# 将它们组合到handles和labels列表中\n",
    "handles = [bar_seen_handle, bar_unseen_handle, line_seen_handle, line_unseen_handle]\n",
    "labels = [h.get_label() for h in handles]\n",
    "\n",
    "# 设置整体图像的标题和轴标签\n",
    "# fig.suptitle('Meta Experiment', fontsize=19, y=0.88)  # 调整y参数来向下移动suptitle\n",
    "# fig.text(0.5, 0.125, 'Models', ha='center', va='center', fontsize=17)\n",
    "fig.text(0.05, 0.5, 'Decrement', va='center', rotation='vertical', fontsize=17)\n",
    "\n",
    "# 创建统一的图例并放在图片下方\n",
    "fig.legend(handles, labels, loc='lower center', bbox_to_anchor=(0.5, 0), ncol=len(handles), fontsize=17)\n",
    "\n",
    "# 调整布局以腾出空间放置图例\n",
    "plt.tight_layout(rect=[0.05, 0.07, 0.95, 0.95])\n",
    "\n",
    "# Save the figure as a .png file\n",
    "plt.savefig(r\"C:\\Users\\26848\\Downloads\\meta_results.pdf\", format='pdf')\n",
    "\n",
    "# 显示图像\n",
    "plt.show()"
   ]
  },
  {
   "cell_type": "markdown",
   "id": "aff1eb0d-ce3e-4fb3-af66-2c7ec8486a95",
   "metadata": {},
   "source": [
    "### 统计样本级别exact match结果"
   ]
  },
  {
   "cell_type": "code",
   "execution_count": 7,
   "id": "2edb44ce-b665-4fc2-9cb6-86450ee2af2f",
   "metadata": {},
   "outputs": [
    {
     "name": "stdout",
     "output_type": "stream",
     "text": [
      "| Model/Dataset | MATH-test-nrgam=0 | MATH-test-nrgam=0.2 | MATH-test-nrgam=0.4 | MATH-test-nrgam=0.6 | MATH-test-nrgam=0.8 | MATH-test-nrgam=1 | MATH-train-nrgam=0 | MATH-train-nrgam=0.2 | MATH-train-nrgam=0.4 | MATH-train-nrgam=0.6 | MATH-train-nrgam=0.8 | MATH-train-nrgam=1 | GSM8K-test-nrgam=0 | GSM8K-test-nrgam=0.2 | GSM8K-test-nrgam=0.4 | GSM8K-test-nrgam=0.6 | GSM8K-test-nrgam=0.8 | GSM8K-test-nrgam=1 | GSM8K-train-nrgam=0 | GSM8K-train-nrgam=0.2 | GSM8K-train-nrgam=0.4 | GSM8K-train-nrgam=0.6 | GSM8K-train-nrgam=0.8 | GSM8K-train-nrgam=1 |\n",
      "|---|---|---|---|---|---|---|---|---|---|---|---|---|---|---|---|---|---|---|---|---|---|---|---|---|\n",
      "| Aquila2-34B | 229 | 729 | 964 | 708 | 363 | 7 | 1 | 18 | 249 | 1095 | 1611 | 26 | 317 | 579 | 381 | 42 | 0 | 0 | 86 | 777 | 1617 | 520 | 0 | 0 | \n",
      "| Aquila2-7B | 475 | 1014 | 924 | 455 | 132 | 0 | 104 | 529 | 926 | 949 | 486 | 6 | 499 | 584 | 215 | 21 | 0 | 0 | 330 | 1223 | 1276 | 171 | 0 | 0 | \n",
      "| Baichuan2-13B-Base | 366 | 988 | 976 | 547 | 123 | 0 | 373 | 1001 | 962 | 539 | 125 | 0 | 234 | 528 | 492 | 64 | 1 | 0 | 257 | 838 | 1308 | 592 | 5 | 0 | \n",
      "| chatglm2-6b | 865 | 1131 | 732 | 231 | 40 | 1 | 828 | 1190 | 706 | 243 | 33 | 0 | 357 | 597 | 321 | 44 | 0 | 0 | 561 | 1222 | 1027 | 187 | 3 | 0 | \n",
      "| chatglm3-6b | 332 | 926 | 1014 | 572 | 156 | 0 | 269 | 789 | 1019 | 696 | 224 | 3 | 186 | 452 | 450 | 213 | 18 | 0 | 463 | 961 | 975 | 547 | 54 | 0 | \n",
      "| internlm2-20b | 288 | 896 | 970 | 646 | 196 | 4 | 10 | 126 | 566 | 1221 | 1038 | 39 | 334 | 619 | 332 | 34 | 0 | 0 | 47 | 814 | 1830 | 308 | 1 | 0 | \n",
      "| internlm2-7b | 306 | 948 | 954 | 610 | 180 | 2 | 41 | 323 | 807 | 1119 | 690 | 20 | 370 | 594 | 324 | 31 | 0 | 0 | 104 | 934 | 1705 | 256 | 1 | 0 | \n",
      "| Orca-2-7b | 627 | 1127 | 872 | 318 | 56 | 0 | 580 | 1096 | 883 | 374 | 67 | 0 | 171 | 482 | 423 | 225 | 18 | 0 | 355 | 855 | 1055 | 642 | 93 | 0 | \n",
      "| phi-1_5 | 1227 | 1172 | 475 | 116 | 10 | 0 | 1188 | 1218 | 490 | 95 | 9 | 0 | 521 | 594 | 186 | 17 | 1 | 0 | 1141 | 1212 | 558 | 89 | 0 | 0 | \n",
      "| Qwen-1_8B | 277 | 816 | 938 | 616 | 328 | 25 | 150 | 589 | 902 | 794 | 498 | 67 | 67 | 352 | 538 | 327 | 35 | 0 | 24 | 196 | 654 | 1045 | 858 | 223 | \n",
      "| Qwen-7B | 118 | 444 | 733 | 874 | 827 | 4 | 56 | 269 | 623 | 994 | 1046 | 12 | 315 | 580 | 381 | 43 | 0 | 0 | 159 | 669 | 1333 | 833 | 6 | 0 | \n",
      "| Qwen-14B | 39 | 272 | 519 | 843 | 1319 | 8 | 13 | 98 | 318 | 917 | 1642 | 12 | 245 | 550 | 431 | 93 | 0 | 0 | 19 | 327 | 1173 | 1319 | 156 | 6 | \n",
      "| Yi-6B | 401 | 1110 | 945 | 463 | 81 | 0 | 432 | 1072 | 939 | 459 | 97 | 1 | 426 | 597 | 260 | 36 | 0 | 0 | 864 | 1354 | 675 | 107 | 0 | 0 | \n",
      "| Yi-34B | 248 | 906 | 1077 | 604 | 165 | 0 | 270 | 847 | 1081 | 636 | 165 | 1 | 361 | 596 | 312 | 50 | 0 | 0 | 612 | 1297 | 897 | 191 | 3 | 0 | \n"
     ]
    }
   ],
   "source": [
    "import json\n",
    "import os\n",
    "\n",
    "# Initialize variables\n",
    "model_names = [\n",
    "    \"Aquila2-34B\",\n",
    "    \"Aquila2-7B\",\n",
    "    \"Baichuan2-13B-Base\",\n",
    "    \"chatglm2-6b\",\n",
    "    \"chatglm3-6b\",\n",
    "    \"internlm2-20b\",\n",
    "    \"internlm2-7b\",\n",
    "    \"Orca-2-7b\",\n",
    "    \"phi-1_5\",\n",
    "    \"Qwen-1_8B\",\n",
    "    \"Qwen-7B\",\n",
    "    \"Qwen-14B\",\n",
    "    \"Yi-6B\",\n",
    "    \"Yi-34B\"\n",
    "]\n",
    "\n",
    "dataset_names = [\n",
    "    \"MATH-test\",\n",
    "    \"MATH-train\",\n",
    "    \"GSM8K-test\",\n",
    "    \"GSM8K-train\"\n",
    "]\n",
    "\n",
    "results = {}\n",
    "\n",
    "# Function to load JSON data and extract n_grams statistics\n",
    "def load_and_process_file(path):\n",
    "    with open(path, 'r') as file:\n",
    "        data = json.load(file)\n",
    "        ngram_counts = {str(i): 0 for i in [0, 0.2, 0.4, 0.6, 0.8, 1]}\n",
    "        for item in data:\n",
    "            n_grams = item['overall']['n_grams']\n",
    "            for key in ngram_counts.keys():\n",
    "                if n_grams == float(key):\n",
    "                    ngram_counts[key] += 1\n",
    "                    break\n",
    "        return ngram_counts\n",
    "\n",
    "# Processing each file and populating the results dictionary\n",
    "for model_name in model_names:\n",
    "    results[model_name] = {}\n",
    "    for dataset_name in dataset_names:\n",
    "        path = f\"/home/rjxu/new-gram/results/5gram-{model_name}-{dataset_name}.json\"\n",
    "        if os.path.exists(path): # Ensure the file exists\n",
    "            ngram_statistics = load_and_process_file(path)\n",
    "            results[model_name][dataset_name] = ngram_statistics\n",
    "        else:\n",
    "            print(f\"File not found: {path}\")\n",
    "            results[model_name][dataset_name] = {str(i): 0 for i in [0, 0.2, 0.4, 0.6, 0.8, 1]}\n",
    "\n",
    "# Print results as a Markdown table\n",
    "header = \"| Model/Dataset | \" + \" | \".join([f\"{dn}-nrgam={ng}\" for dn in dataset_names for ng in [0, 0.2, 0.4, 0.6, 0.8, 1]]) + \" |\"\n",
    "print(header)\n",
    "print(\"|---\" * (len(dataset_names) * 6 + 1) + \"|\")\n",
    "\n",
    "for model_name, datasets in results.items():\n",
    "    row = f\"| {model_name} | \"\n",
    "    for dataset_name in dataset_names:\n",
    "        for ng in [0, 0.2, 0.4, 0.6, 0.8, 1]:\n",
    "            row += f\"{datasets[dataset_name][str(ng)]} | \"\n",
    "    print(row)\n"
   ]
  },
  {
   "cell_type": "markdown",
   "id": "d95da2cf-a293-416b-83d9-0d94131e96c1",
   "metadata": {},
   "source": [
    "### 统计样本级别rouge-l结果"
   ]
  },
  {
   "cell_type": "code",
   "execution_count": 4,
   "id": "e65b03ce-0b1b-4da5-9c29-57f56cf36c54",
   "metadata": {},
   "outputs": [
    {
     "name": "stdout",
     "output_type": "stream",
     "text": [
      "| Model/Dataset | MATH-test-acc_rouge_l=0 | MATH-test-acc_rouge_l=0.2 | MATH-test-acc_rouge_l=0.4 | MATH-test-acc_rouge_l=0.6 | MATH-test-acc_rouge_l=0.8 | MATH-test-acc_rouge_l=1 | MATH-train-acc_rouge_l=0 | MATH-train-acc_rouge_l=0.2 | MATH-train-acc_rouge_l=0.4 | MATH-train-acc_rouge_l=0.6 | MATH-train-acc_rouge_l=0.8 | MATH-train-acc_rouge_l=1 | GSM8K-test-acc_rouge_l=0 | GSM8K-test-acc_rouge_l=0.2 | GSM8K-test-acc_rouge_l=0.4 | GSM8K-test-acc_rouge_l=0.6 | GSM8K-test-acc_rouge_l=0.8 | GSM8K-test-acc_rouge_l=1 | GSM8K-train-acc_rouge_l=0 | GSM8K-train-acc_rouge_l=0.2 | GSM8K-train-acc_rouge_l=0.4 | GSM8K-train-acc_rouge_l=0.6 | GSM8K-train-acc_rouge_l=0.8 | GSM8K-train-acc_rouge_l=1 |\n",
      "|---|---|---|---|---|---|---|---|---|---|---|---|---|---|---|---|---|---|---|---|---|---|---|---|---|\n",
      "| Aquila2-34B | 80 | 448 | 884 | 957 | 596 | 35 | 0 | 6 | 134 | 887 | 1872 | 101 | 146 | 490 | 527 | 155 | 1 | 0 | 29 | 446 | 1505 | 1013 | 7 | 0 | \n",
      "| Aquila2-7B | 204 | 726 | 1063 | 723 | 280 | 4 | 28 | 272 | 763 | 1159 | 748 | 30 | 285 | 584 | 378 | 71 | 1 | 0 | 150 | 919 | 1491 | 439 | 1 | 0 | \n",
      "| Baichuan2-13B-Base | 159 | 711 | 1052 | 805 | 267 | 6 | 178 | 699 | 1048 | 830 | 239 | 6 | 144 | 466 | 560 | 146 | 3 | 0 | 119 | 645 | 1335 | 885 | 15 | 1 | \n",
      "| chatglm2-6b | 394 | 929 | 1023 | 532 | 117 | 5 | 368 | 997 | 970 | 547 | 116 | 2 | 209 | 514 | 463 | 128 | 5 | 0 | 277 | 933 | 1318 | 449 | 23 | 0 | \n",
      "| chatglm3-6b | 148 | 639 | 1026 | 842 | 333 | 12 | 112 | 505 | 955 | 943 | 464 | 21 | 118 | 355 | 504 | 288 | 54 | 0 | 265 | 820 | 1076 | 703 | 136 | 0 | \n",
      "| internlm2-20b | 77 | 448 | 952 | 997 | 506 | 20 | 1 | 32 | 274 | 964 | 1587 | 142 | 173 | 537 | 501 | 107 | 1 | 0 | 22 | 548 | 1776 | 649 | 5 | 0 | \n",
      "| internlm2-7b | 105 | 498 | 920 | 981 | 483 | 13 | 7 | 97 | 480 | 1109 | 1216 | 91 | 210 | 533 | 472 | 104 | 0 | 0 | 56 | 661 | 1651 | 628 | 4 | 0 | \n",
      "| Orca-2-7b | 315 | 905 | 1059 | 583 | 137 | 1 | 283 | 865 | 1032 | 641 | 177 | 2 | 113 | 385 | 479 | 283 | 59 | 0 | 211 | 689 | 1075 | 836 | 188 | 1 | \n",
      "| phi-1_5 | 615 | 1160 | 836 | 327 | 61 | 1 | 624 | 1165 | 839 | 318 | 52 | 2 | 280 | 545 | 387 | 96 | 11 | 0 | 569 | 1156 | 938 | 320 | 16 | 1 | \n",
      "| Qwen-1_8B | 121 | 539 | 936 | 828 | 525 | 51 | 72 | 331 | 761 | 962 | 738 | 136 | 30 | 224 | 507 | 443 | 114 | 1 | 6 | 88 | 437 | 1007 | 1078 | 384 | \n",
      "| Qwen-7B | 38 | 259 | 637 | 961 | 1082 | 23 | 12 | 139 | 483 | 1011 | 1317 | 38 | 172 | 506 | 525 | 115 | 1 | 0 | 66 | 378 | 1219 | 1306 | 30 | 1 | \n",
      "| Qwen-14B | 17 | 140 | 421 | 843 | 1531 | 48 | 5 | 46 | 221 | 804 | 1871 | 53 | 118 | 422 | 555 | 212 | 12 | 0 | 4 | 157 | 885 | 1634 | 302 | 18 | \n",
      "| Yi-6B | 190 | 813 | 1069 | 709 | 212 | 7 | 206 | 786 | 1028 | 749 | 224 | 7 | 251 | 558 | 420 | 89 | 1 | 0 | 499 | 1214 | 1004 | 278 | 5 | 0 | \n",
      "| Yi-34B | 95 | 579 | 1106 | 894 | 322 | 4 | 117 | 561 | 1048 | 920 | 348 | 6 | 200 | 535 | 439 | 145 | 0 | 0 | 341 | 1037 | 1173 | 435 | 14 | 0 | \n"
     ]
    }
   ],
   "source": [
    "import json\n",
    "import os\n",
    "\n",
    "# Initialize variables\n",
    "model_names = [\n",
    "    \"Aquila2-34B\",\n",
    "    \"Aquila2-7B\",\n",
    "    \"Baichuan2-13B-Base\",\n",
    "    \"chatglm2-6b\",\n",
    "    \"chatglm3-6b\",\n",
    "    \"internlm2-20b\",\n",
    "    \"internlm2-7b\",\n",
    "    \"Orca-2-7b\",\n",
    "    \"phi-1_5\",\n",
    "    \"Qwen-1_8B\",\n",
    "    \"Qwen-7B\",\n",
    "    \"Qwen-14B\",\n",
    "    \"Yi-6B\",\n",
    "    \"Yi-34B\"\n",
    "]\n",
    "\n",
    "dataset_names = [\n",
    "    \"MATH-test\",\n",
    "    \"MATH-train\",\n",
    "    \"GSM8K-test\",\n",
    "    \"GSM8K-train\"\n",
    "]\n",
    "\n",
    "results = {}\n",
    "\n",
    "# Function to load JSON data and extract n_grams statistics\n",
    "def load_and_process_file(path):\n",
    "    with open(path, 'r') as file:\n",
    "        data = json.load(file)\n",
    "        accuracies_rouge_l_counts = {str(i): 0 for i in [0, 0.2, 0.4, 0.6, 0.8, 1]}\n",
    "        for item in data:\n",
    "            accuracies_rouge_l = item['overall']['accuracies_rouge_l']\n",
    "            for key in accuracies_rouge_l_counts.keys():\n",
    "                if accuracies_rouge_l == float(key):\n",
    "                    accuracies_rouge_l_counts[key] += 1\n",
    "                    break\n",
    "        return accuracies_rouge_l_counts\n",
    "\n",
    "# Processing each file and populating the results dictionary\n",
    "for model_name in model_names:\n",
    "    results[model_name] = {}\n",
    "    for dataset_name in dataset_names:\n",
    "        path = f\"/home/rjxu/new-gram/results/5gram-{model_name}-{dataset_name}.json\"\n",
    "        if os.path.exists(path): # Ensure the file exists\n",
    "            accuracies_rouge_l_statistics = load_and_process_file(path)\n",
    "            results[model_name][dataset_name] = accuracies_rouge_l_statistics\n",
    "        else:\n",
    "            print(f\"File not found: {path}\")\n",
    "            results[model_name][dataset_name] = {str(i): 0 for i in [0, 0.2, 0.4, 0.6, 0.8, 1]}\n",
    "\n",
    "# Print results as a Markdown table\n",
    "header = \"| Model/Dataset | \" + \" | \".join([f\"{dn}-acc_rouge_l={ng}\" for dn in dataset_names for ng in [0, 0.2, 0.4, 0.6, 0.8, 1]]) + \" |\"\n",
    "print(header)\n",
    "print(\"|---\" * (len(dataset_names) * 6 + 1) + \"|\")\n",
    "\n",
    "for model_name, datasets in results.items():\n",
    "    row = f\"| {model_name} | \"\n",
    "    for dataset_name in dataset_names:\n",
    "        for ng in [0, 0.2, 0.4, 0.6, 0.8, 1]:\n",
    "            row += f\"{datasets[dataset_name][str(ng)]} | \"\n",
    "    print(row)\n"
   ]
  },
  {
   "cell_type": "markdown",
   "id": "74f4fdee-728a-464a-ad72-091595e26b6b",
   "metadata": {},
   "source": [
    "### 统计样本级别edit-distance结果"
   ]
  },
  {
   "cell_type": "code",
   "execution_count": null,
   "id": "4887ad7e-e467-4963-84ba-79e82e332393",
   "metadata": {},
   "outputs": [],
   "source": [
    "import json\n",
    "import os\n",
    "\n",
    "# Initialize variables\n",
    "model_names = [\n",
    "    \"Aquila2-34B\",\n",
    "    \"Aquila2-7B\",\n",
    "    \"Baichuan2-13B-Base\",\n",
    "    \"chatglm2-6b\",\n",
    "    \"chatglm3-6b\",\n",
    "    \"internlm2-20b\",\n",
    "    \"internlm2-7b\",\n",
    "    \"Orca-2-7b\",\n",
    "    \"phi-1_5\",\n",
    "    \"Qwen-1_8B\",\n",
    "    \"Qwen-7B\",\n",
    "    \"Qwen-14B\",\n",
    "    \"Yi-6B\",\n",
    "    \"Yi-34B\"\n",
    "]\n",
    "\n",
    "dataset_names = [\n",
    "    \"MATH-test\",\n",
    "    \"MATH-train\",\n",
    "    \"GSM8K-test\",\n",
    "    \"GSM8K-train\"\n",
    "]\n",
    "\n",
    "results = {}\n",
    "\n",
    "# Function to load JSON data and extract n_grams statistics\n",
    "def load_and_process_file(path):\n",
    "    with open(path, 'r') as file:\n",
    "        data = json.load(file)\n",
    "        accuracies_edit_distance_counts = {str(i): 0 for i in [0, 0.2, 0.4, 0.6, 0.8, 1]}\n",
    "        for item in data:\n",
    "            accuracies_edit_distance = item['overall']['accuracies_edit_distance']\n",
    "            for key in accuracies_edit_distance_counts.keys():\n",
    "                if accuracies_edit_distance == float(key):\n",
    "                    accuracies_edit_distance_counts[key] += 1\n",
    "                    break\n",
    "        return accuracies_edit_distance_counts\n",
    "\n",
    "# Processing each file and populating the results dictionary\n",
    "for model_name in model_names:\n",
    "    results[model_name] = {}\n",
    "    for dataset_name in dataset_names:\n",
    "        path = f\"/home/rjxu/new-gram/results/5gram-{model_name}-{dataset_name}.json\"\n",
    "        if os.path.exists(path): # Ensure the file exists\n",
    "            accuracies_edit_distance_statistics = load_and_process_file(path)\n",
    "            results[model_name][dataset_name] = accuracies_edit_distance_statistics\n",
    "        else:\n",
    "            print(f\"File not found: {path}\")\n",
    "            results[model_name][dataset_name] = {str(i): 0 for i in [0, 0.2, 0.4, 0.6, 0.8, 1]}\n",
    "\n",
    "# Print results as a Markdown table\n",
    "header = \"| Model/Dataset | \" + \" | \".join([f\"{dn}-acc_edit_distance={ng}\" for dn in dataset_names for ng in [0, 0.2, 0.4, 0.6, 0.8, 1]]) + \" |\"\n",
    "print(header)\n",
    "print(\"|---\" * (len(dataset_names) * 6 + 1) + \"|\")\n",
    "\n",
    "for model_name, datasets in results.items():\n",
    "    row = f\"| {model_name} | \"\n",
    "    for dataset_name in dataset_names:\n",
    "        for ng in [0, 0.2, 0.4, 0.6, 0.8, 1]:\n",
    "            row += f\"{datasets[dataset_name][str(ng)]} | \"\n",
    "    print(row)\n"
   ]
  },
  {
   "cell_type": "markdown",
   "id": "9a015665-9442-487e-bf16-32191a9bea5d",
   "metadata": {},
   "source": [
    "### 绘制样本级别统计图"
   ]
  },
  {
   "cell_type": "code",
   "execution_count": 6,
   "id": "15c6214f-03a4-46da-932c-471d6f34c04a",
   "metadata": {},
   "outputs": [
    {
     "ename": "ModuleNotFoundError",
     "evalue": "No module named 'matplotlib'",
     "output_type": "error",
     "traceback": [
      "\u001b[0;31m---------------------------------------------------------------------------\u001b[0m",
      "\u001b[0;31mModuleNotFoundError\u001b[0m                       Traceback (most recent call last)",
      "Cell \u001b[0;32mIn[6], line 2\u001b[0m\n\u001b[1;32m      1\u001b[0m \u001b[38;5;28;01mimport\u001b[39;00m \u001b[38;5;21;01mpandas\u001b[39;00m \u001b[38;5;28;01mas\u001b[39;00m \u001b[38;5;21;01mpd\u001b[39;00m\n\u001b[0;32m----> 2\u001b[0m \u001b[38;5;28;01mimport\u001b[39;00m \u001b[38;5;21;01mmatplotlib\u001b[39;00m\u001b[38;5;21;01m.\u001b[39;00m\u001b[38;5;21;01mpyplot\u001b[39;00m \u001b[38;5;28;01mas\u001b[39;00m \u001b[38;5;21;01mplt\u001b[39;00m\n\u001b[1;32m      4\u001b[0m \u001b[38;5;66;03m# Load the excel file (Please change the path to where the file is located on your system)\u001b[39;00m\n\u001b[1;32m      5\u001b[0m excel_path \u001b[38;5;241m=\u001b[39m \u001b[38;5;124mr\u001b[39m\u001b[38;5;124m\"\u001b[39m\u001b[38;5;124mC:\u001b[39m\u001b[38;5;124m\\\u001b[39m\u001b[38;5;124mUsers\u001b[39m\u001b[38;5;124m\\\u001b[39m\u001b[38;5;124m26848\u001b[39m\u001b[38;5;124m\\\u001b[39m\u001b[38;5;124mDownloads\u001b[39m\u001b[38;5;124m\\\u001b[39m\u001b[38;5;124mInstance-plot.xlsx\u001b[39m\u001b[38;5;124m\"\u001b[39m  \u001b[38;5;66;03m# Replace with the correct path\u001b[39;00m\n",
      "\u001b[0;31mModuleNotFoundError\u001b[0m: No module named 'matplotlib'"
     ]
    }
   ],
   "source": [
    "import pandas as pd\n",
    "import matplotlib.pyplot as plt\n",
    "\n",
    "# Load the excel file (Please change the path to where the file is located on your system)\n",
    "excel_path = r\"C:\\Users\\26848\\Downloads\\Instance-plot.xlsx\"  # Replace with the correct path\n",
    "excel_data = pd.ExcelFile(excel_path)\n",
    "\n",
    "plt.rcParams['font.family'] = 'Times New Roman'\n",
    "plt.rcParams['font.size'] = 17\n",
    "\n",
    "# Read the contents of each sheet into a dictionary\n",
    "sheets = {sheet: pd.read_excel(excel_data, sheet_name=sheet) for sheet in excel_data.sheet_names}\n",
    "\n",
    "# Initialize a dictionary to hold the plot data\n",
    "plot_data = {\n",
    "    'N-gram': {},\n",
    "    'Rouge-L': {}\n",
    "}\n",
    "\n",
    "# Define colors for each dataset\n",
    "dataset_colors = {\n",
    "    'MATH-train': '#4E95D9',\n",
    "    'MATH-test': '#8ED973',\n",
    "    'GSM8K-train': '#F2AA84',\n",
    "    'GSM8K-test': '#E74C3C'\n",
    "}\n",
    "\n",
    "# Custom logarithmic scale\n",
    "custom_log_scale = [1.0/3.0] + [1, 3, 9, 27, 81, 243, 729]\n",
    "# custom_ticks_labels = ['$0$'] + ['$3^{0}$', '$3^{1}$', '$3^{2}$', '$3^{3}$', '$3^{4}$', '$3^{5}$', '$3^{6}$']\n",
    "custom_ticks_labels = [0] + [1, 3, 9, 27, 81, 243, 729]\n",
    "\n",
    "# Assign colors to models for plotting and organize data for N-gram and Rouge-L metrics\n",
    "for sheet_name, df in sheets.items():\n",
    "    df = df.set_index(df.columns[0])  # Use the first column as index (model names)\n",
    "    for model_name in df.index:\n",
    "        for col, metric in zip(df.columns, ['N-gram', 'Rouge-L']):\n",
    "            if model_name not in plot_data[metric]:\n",
    "                plot_data[metric][model_name] = []\n",
    "            # Replace zeros with ones for log scale compatibility\n",
    "            value = df.at[model_name, col] if df.at[model_name, col] != 0 else 1.0/3.0\n",
    "            plot_data[metric][model_name].append(value)\n",
    "            \n",
    "# Model names are the x-axis labels\n",
    "model_names = list(plot_data['N-gram'].keys())\n",
    "\n",
    "# Create the plots\n",
    "fig, axs = plt.subplots(1, 2, figsize=(15, 6))\n",
    "\n",
    "# Plot each metric for each model\n",
    "for metric, ax in zip(['N-gram', 'Rouge-L'], axs):\n",
    "    for i, model in enumerate(model_names):\n",
    "        if model == 'Models':  # Skip the 'Models' row\n",
    "            continue\n",
    "        for j, (dataset, color) in enumerate(dataset_colors.items()):\n",
    "            ax.scatter(i, plot_data[metric][model][j], s=200, color=color, \n",
    "                       edgecolors=color, alpha=0.6, label=dataset if i == 0 else \"\")\n",
    "\n",
    "# Setting titles, x and y labels\n",
    "axs[0].set_title('Exact Match')\n",
    "axs[1].set_title('Rouge-L > 0.75')\n",
    "axs[0].set_xticks(range(len(model_names)))\n",
    "axs[0].set_xticklabels(model_names, rotation=45, ha='right')\n",
    "axs[1].set_xticks(range(len(model_names)))\n",
    "axs[1].set_xticklabels(model_names, rotation=45, ha='right')\n",
    "\n",
    "# Setting custom logarithmic scale for the y-axis\n",
    "for ax in axs:\n",
    "    ax.set_yscale('log')\n",
    "    ax.set_ylim(bottom=1/3)  # Setting the bottom to 1/3 for the log scale\n",
    "    ax.set_yticks(custom_log_scale)\n",
    "    ax.set_yticklabels(custom_ticks_labels)\n",
    "    ax.set_ylabel('Count', fontsize=18)\n",
    "\n",
    "# Adding a single legend for both plots\n",
    "legend_elements = [plt.Line2D([0], [0], marker='o', color=color, label=dataset, \n",
    "                              markersize=10, markerfacecolor=color, alpha=0.8)\n",
    "                   for dataset, color in dataset_colors.items()]\n",
    "fig.legend(handles=legend_elements, loc='lower center', bbox_to_anchor=(0.5, 0), ncol=4)\n",
    "\n",
    "# Adjust layout to make room for the legend\n",
    "plt.tight_layout(rect=[0, 0.05, 1, 0.95])\n",
    "\n",
    "# Save the plot to a file\n",
    "# plt.savefig(r\"C:\\Users\\26848\\Downloads\\instance_results(num).pdf\", format='pdf')\n",
    "\n",
    "# Show the plot\n",
    "plt.show()\n"
   ]
  }
 ],
 "metadata": {
  "kernelspec": {
   "display_name": "Python 3",
   "language": "python",
   "name": "python3"
  },
  "language_info": {
   "codemirror_mode": {
    "name": "ipython",
    "version": 3
   },
   "file_extension": ".py",
   "mimetype": "text/x-python",
   "name": "python",
   "nbconvert_exporter": "python",
   "pygments_lexer": "ipython3",
   "version": "3.8.18"
  }
 },
 "nbformat": 4,
 "nbformat_minor": 5
}
